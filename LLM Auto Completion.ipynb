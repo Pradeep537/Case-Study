{
 "cells": [
  {
   "cell_type": "code",
   "execution_count": 4,
   "metadata": {
    "executionInfo": {
     "elapsed": 616,
     "status": "ok",
     "timestamp": 1729016736626,
     "user": {
      "displayName": "pradeep ragavarapu",
      "userId": "08037264567537929603"
     },
     "user_tz": -330
    },
    "id": "GdbpgkQkbVEu"
   },
   "outputs": [
    {
     "name": "stdout",
     "output_type": "stream",
     "text": [
      "Collecting transformers\n",
      "  Downloading transformers-4.45.2-py3-none-any.whl (9.9 MB)\n",
      "Requirement already satisfied: pandas in c:\\users\\vijay\\anaconda3\\lib\\site-packages (1.3.4)\n",
      "Collecting huggingface-hub<1.0,>=0.23.2\n",
      "  Downloading huggingface_hub-0.25.2-py3-none-any.whl (436 kB)\n",
      "Collecting tokenizers<0.21,>=0.20\n",
      "  Downloading tokenizers-0.20.1-cp39-none-win_amd64.whl (2.4 MB)\n",
      "Requirement already satisfied: pyyaml>=5.1 in c:\\users\\vijay\\anaconda3\\lib\\site-packages (from transformers) (6.0)\n",
      "Requirement already satisfied: filelock in c:\\users\\vijay\\anaconda3\\lib\\site-packages (from transformers) (3.3.1)\n",
      "Requirement already satisfied: packaging>=20.0 in c:\\users\\vijay\\anaconda3\\lib\\site-packages (from transformers) (21.0)\n",
      "Requirement already satisfied: numpy>=1.17 in c:\\users\\vijay\\anaconda3\\lib\\site-packages (from transformers) (1.20.3)\n",
      "Requirement already satisfied: tqdm>=4.27 in c:\\users\\vijay\\anaconda3\\lib\\site-packages (from transformers) (4.62.3)\n",
      "Requirement already satisfied: regex!=2019.12.17 in c:\\users\\vijay\\anaconda3\\lib\\site-packages (from transformers) (2021.8.3)\n",
      "Collecting safetensors>=0.4.1\n",
      "  Downloading safetensors-0.4.5-cp39-none-win_amd64.whl (286 kB)\n",
      "Requirement already satisfied: requests in c:\\users\\vijay\\anaconda3\\lib\\site-packages (from transformers) (2.26.0)\n",
      "Requirement already satisfied: pytz>=2017.3 in c:\\users\\vijay\\anaconda3\\lib\\site-packages (from pandas) (2021.3)\n",
      "Requirement already satisfied: python-dateutil>=2.7.3 in c:\\users\\vijay\\anaconda3\\lib\\site-packages (from pandas) (2.8.2)\n",
      "Collecting fsspec>=2023.5.0\n",
      "  Downloading fsspec-2024.9.0-py3-none-any.whl (179 kB)\n",
      "Requirement already satisfied: typing-extensions>=3.7.4.3 in c:\\users\\vijay\\anaconda3\\lib\\site-packages (from huggingface-hub<1.0,>=0.23.2->transformers) (3.10.0.2)\n",
      "Requirement already satisfied: pyparsing>=2.0.2 in c:\\users\\vijay\\anaconda3\\lib\\site-packages (from packaging>=20.0->transformers) (3.0.4)\n",
      "Requirement already satisfied: six>=1.5 in c:\\users\\vijay\\anaconda3\\lib\\site-packages (from python-dateutil>=2.7.3->pandas) (1.16.0)\n",
      "Requirement already satisfied: colorama in c:\\users\\vijay\\anaconda3\\lib\\site-packages (from tqdm>=4.27->transformers) (0.4.4)\n",
      "Requirement already satisfied: charset-normalizer~=2.0.0 in c:\\users\\vijay\\anaconda3\\lib\\site-packages (from requests->transformers) (2.0.4)\n",
      "Requirement already satisfied: idna<4,>=2.5 in c:\\users\\vijay\\anaconda3\\lib\\site-packages (from requests->transformers) (3.2)\n",
      "Requirement already satisfied: urllib3<1.27,>=1.21.1 in c:\\users\\vijay\\anaconda3\\lib\\site-packages (from requests->transformers) (1.26.7)\n",
      "Requirement already satisfied: certifi>=2017.4.17 in c:\\users\\vijay\\anaconda3\\lib\\site-packages (from requests->transformers) (2021.10.8)\n",
      "Installing collected packages: fsspec, huggingface-hub, tokenizers, safetensors, transformers\n",
      "  Attempting uninstall: fsspec\n",
      "    Found existing installation: fsspec 2021.10.1\n",
      "    Uninstalling fsspec-2021.10.1:\n",
      "      Successfully uninstalled fsspec-2021.10.1\n",
      "Successfully installed fsspec-2024.9.0 huggingface-hub-0.25.2 safetensors-0.4.5 tokenizers-0.20.1 transformers-4.45.2\n",
      "Note: you may need to restart the kernel to use updated packages.\n"
     ]
    }
   ],
   "source": [
    "%pip install transformers pandas"
   ]
  },
  {
   "cell_type": "code",
   "execution_count": 2,
   "metadata": {},
   "outputs": [],
   "source": [
    "import ipywidgets as widgets\n",
    "from IPython.display import display\n",
    "from transformers import GPT2Tokenizer, GPT2LMHeadModel\n",
    "import pandas as pd\n",
    "import re"
   ]
  },
  {
   "cell_type": "code",
   "execution_count": 7,
   "metadata": {},
   "outputs": [
    {
     "name": "stdout",
     "output_type": "stream",
     "text": [
      "Collecting torch\n",
      "  Downloading torch-2.4.1-cp39-cp39-win_amd64.whl (199.3 MB)\n",
      "Collecting torchvision\n",
      "  Downloading torchvision-0.19.1-cp39-cp39-win_amd64.whl (1.3 MB)\n",
      "Collecting torchaudio\n",
      "  Downloading torchaudio-2.4.1-cp39-cp39-win_amd64.whl (2.4 MB)\n",
      "Requirement already satisfied: sympy in c:\\users\\vijay\\anaconda3\\lib\\site-packages (from torch) (1.9)\n",
      "Requirement already satisfied: fsspec in c:\\users\\vijay\\anaconda3\\lib\\site-packages (from torch) (2024.9.0)\n",
      "Requirement already satisfied: jinja2 in c:\\users\\vijay\\anaconda3\\lib\\site-packages (from torch) (2.11.3)\n",
      "Requirement already satisfied: networkx in c:\\users\\vijay\\anaconda3\\lib\\site-packages (from torch) (2.6.3)\n",
      "Collecting typing-extensions>=4.8.0\n",
      "  Using cached typing_extensions-4.12.2-py3-none-any.whl (37 kB)\n",
      "Requirement already satisfied: filelock in c:\\users\\vijay\\anaconda3\\lib\\site-packages (from torch) (3.3.1)\n",
      "Requirement already satisfied: pillow!=8.3.*,>=5.3.0 in c:\\users\\vijay\\anaconda3\\lib\\site-packages (from torchvision) (8.4.0)\n",
      "Requirement already satisfied: numpy in c:\\users\\vijay\\anaconda3\\lib\\site-packages (from torchvision) (1.20.3)\n",
      "Requirement already satisfied: MarkupSafe>=0.23 in c:\\users\\vijay\\anaconda3\\lib\\site-packages (from jinja2->torch) (1.1.1)\n",
      "Requirement already satisfied: mpmath>=0.19 in c:\\users\\vijay\\anaconda3\\lib\\site-packages (from sympy->torch) (1.2.1)\n",
      "Installing collected packages: typing-extensions, torch, torchvision, torchaudio\n",
      "  Attempting uninstall: typing-extensions\n",
      "    Found existing installation: typing-extensions 3.10.0.2\n",
      "    Uninstalling typing-extensions-3.10.0.2:\n",
      "      Successfully uninstalled typing-extensions-3.10.0.2\n",
      "Successfully installed torch-2.4.1 torchaudio-2.4.1 torchvision-0.19.1 typing-extensions-4.12.2\n",
      "Note: you may need to restart the kernel to use updated packages.\n"
     ]
    }
   ],
   "source": [
    "%pip install torch torchvision torchaudio"
   ]
  },
  {
   "cell_type": "code",
   "execution_count": 4,
   "metadata": {
    "colab": {
     "base_uri": "https://localhost:8080/"
    },
    "executionInfo": {
     "elapsed": 1000,
     "status": "ok",
     "timestamp": 1729016737624,
     "user": {
      "displayName": "pradeep ragavarapu",
      "userId": "08037264567537929603"
     },
     "user_tz": -330
    },
    "id": "EFVZZpSzbZm9",
    "outputId": "5653fb81-e0c9-49f3-8c18-d4d620ab1eb3"
   },
   "outputs": [],
   "source": [
    "# Load GPT-2 model and tokenizer\n",
    "tokenizer = GPT2Tokenizer.from_pretrained(\"gpt2\")\n",
    "model = GPT2LMHeadModel.from_pretrained(\"gpt2\")"
   ]
  },
  {
   "cell_type": "code",
   "execution_count": 5,
   "metadata": {
    "executionInfo": {
     "elapsed": 485,
     "status": "ok",
     "timestamp": 1729016751378,
     "user": {
      "displayName": "pradeep ragavarapu",
      "userId": "08037264567537929603"
     },
     "user_tz": -330
    },
    "id": "Mvy6aLXKbdg9"
   },
   "outputs": [],
   "source": [
    "# Set the pad_token_id to eos_token_id to avoid warnings\n",
    "tokenizer.pad_token_id = tokenizer.eos_token_id"
   ]
  },
  {
   "cell_type": "code",
   "execution_count": 15,
   "metadata": {
    "executionInfo": {
     "elapsed": 435,
     "status": "ok",
     "timestamp": 1729016770748,
     "user": {
      "displayName": "pradeep ragavarapu",
      "userId": "08037264567537929603"
     },
     "user_tz": -330
    },
    "id": "EFOUk0BrbhqN"
   },
   "outputs": [],
   "source": [
    "# Data cleansing function\n",
    "def clean_text(text):\n",
    "    if pd.isna(text):\n",
    "        return \"\"\n",
    "    # Removing unwanted characters like multiple commas, quotes, and extra spaces\n",
    "    text = re.sub(r'[^a-zA-Z0-9\\s-]', '', text)  \n",
    "    text = re.sub(r'\\s+', ' ', text).strip()  \n",
    "    return text"
   ]
  },
  {
   "cell_type": "code",
   "execution_count": 16,
   "metadata": {},
   "outputs": [],
   "source": [
    "# Step to remove duplicate product names in the same record\n",
    "def remove_duplicate_product_names(product_name):\n",
    "    # Split the product name into words\n",
    "    words = product_name.split()\n",
    "\n",
    "    # Create an empty list to store the non-repeated words\n",
    "    seen_words = []\n",
    "    for word in words:\n",
    "        # Add word to seen_words if it's not already added\n",
    "        if ' '.join(seen_words).find(word) == -1:\n",
    "            seen_words.append(word)\n",
    "        else:\n",
    "            break \n",
    "\n",
    "    # Join the unique words to recreate the cleaned product name\n",
    "    return ' '.join(seen_words)"
   ]
  },
  {
   "cell_type": "code",
   "execution_count": 17,
   "metadata": {
    "executionInfo": {
     "elapsed": 61940,
     "status": "ok",
     "timestamp": 1729016850373,
     "user": {
      "displayName": "pradeep ragavarapu",
      "userId": "08037264567537929603"
     },
     "user_tz": -330
    },
    "id": "z7mxUj1xbmMu"
   },
   "outputs": [],
   "source": [
    "# Step 1: Load and preprocess the product names from CSV\n",
    "def load_and_preprocess_data(file_path):\n",
    "    df = pd.read_csv(file_path)  # Assuming the file is a CSV\n",
    "    # Clean the dataset (remove duplicates, NaN values, etc.)\n",
    "    df = df.dropna().drop_duplicates()\n",
    "\n",
    "    # Apply cleaning to the 'Product Name' column\n",
    "    df['Product Name'] = df['Product Name'].apply(clean_text)\n",
    "\n",
    "    # Remove empty or invalid entries after cleaning\n",
    "    df = df[df['Product Name'].str.len() > 0]\n",
    "    \n",
    "    # Apply the cleaning function to each product name in the dataframe\n",
    "    df['Product Name'] = df['Product Name'].apply(remove_duplicate_product_names)\n",
    "    product_names = df['Product Name'].tolist()  \n",
    "    return product_names\n",
    "\n",
    "# Load your dataset (replace 'product_names.csv' with your actual file path)\n",
    "product_names = load_and_preprocess_data('dataset/product_names.csv')"
   ]
  },
  {
   "cell_type": "code",
   "execution_count": 19,
   "metadata": {
    "executionInfo": {
     "elapsed": 361,
     "status": "ok",
     "timestamp": 1729016857772,
     "user": {
      "displayName": "pradeep ragavarapu",
      "userId": "08037264567537929603"
     },
     "user_tz": -330
    },
    "id": "eXXV7BIXbptl"
   },
   "outputs": [],
   "source": [
    "# Step 2: Implement the retrieval system\n",
    "def retrieve_similar(input_text, product_list, max_results=5):\n",
    "    input_text_lower = input_text.lower()  \n",
    "    retrieved_products = [name for name in product_list if input_text_lower in name.lower()]  \n",
    "    return retrieved_products[:max_results]  "
   ]
  },
  {
   "cell_type": "code",
   "execution_count": 20,
   "metadata": {
    "executionInfo": {
     "elapsed": 400,
     "status": "ok",
     "timestamp": 1729016861312,
     "user": {
      "displayName": "pradeep ragavarapu",
      "userId": "08037264567537929603"
     },
     "user_tz": -330
    },
    "id": "BFiIXE4Nbq5W"
   },
   "outputs": [],
   "source": [
    "# Step 3: Generate text from retrieved products\n",
    "def generate_completion(input_text, retrieved_products, max_new_tokens=30, num_return_sequences=1):\n",
    "    # Join retrieved product names with a newline for better separation\n",
    "    input_with_context = \"\\n\".join(retrieved_products)\n",
    "\n",
    "    # Tokenize input\n",
    "#     input_ids = tokenizer.encode(input_with_context, return_tensors=\"pt\")\n",
    "\n",
    "    # Tokenize input with attention mask\n",
    "    inputs = tokenizer(input_with_context, return_tensors=\"pt\", padding=True, truncation=True)\n",
    "    input_ids = inputs['input_ids']\n",
    "    attention_mask = inputs['attention_mask']  \n",
    "    \n",
    "    \n",
    "    # Generate auto-completion suggestions\n",
    "    outputs = model.generate(\n",
    "        input_ids,\n",
    "        attention_mask=attention_mask,  \n",
    "        max_new_tokens=max_new_tokens, \n",
    "        num_return_sequences=num_return_sequences,\n",
    "        do_sample=True,\n",
    "        top_k=50,\n",
    "        top_p=0.95,\n",
    "        temperature=0.7,\n",
    "        pad_token_id=tokenizer.eos_token_id \n",
    "    )\n",
    "\n",
    "    # Decode and return generated text\n",
    "    suggestions = [tokenizer.decode(output, skip_special_tokens=True) for output in outputs]\n",
    "\n",
    "    # Post-process suggestions: Split by newlines, remove duplicates, and clean up\n",
    "    processed_suggestions = []\n",
    "    for suggestion in suggestions:\n",
    "        # Split the suggestion into product names\n",
    "        product_names = suggestion.split(\"\\n\")\n",
    "\n",
    "        # Deduplicate and clean up the product names\n",
    "        unique_names = list(dict.fromkeys(product_names)) \n",
    "\n",
    "        # Join unique product names back together\n",
    "        cleaned_suggestion = \"\\n\".join(unique_names).strip() \n",
    "\n",
    "        processed_suggestions.append(cleaned_suggestion)\n",
    "\n",
    "    return processed_suggestions"
   ]
  },
  {
   "cell_type": "code",
   "execution_count": 27,
   "metadata": {},
   "outputs": [
    {
     "name": "stdout",
     "output_type": "stream",
     "text": [
      "Certified Refurbished Amazon Fire TV Previous Generation - 1st\n",
      "Certified Refurbished Amazon Fire TV Stick Previous Generation - 1st\n",
      "Certified Refurbished Amazon Fire TV Stick Previous Generation - 1st Kindle Paperwhite\n",
      "Amazon Echo and Fire TV Power Adapter\n",
      "Certified Refurbished Amazon Fire TV with Alexa Voice Remote (AUR)\n",
      "Certified Refurbished Amazon Fire TV\n"
     ]
    }
   ],
   "source": [
    "# If input text is not empty, retrieve suggestions and display\n",
    "input_text = \"fire tv\"\n",
    "if input_text:\n",
    "    retrieved = retrieve_similar(input_text, product_names)  \n",
    "    if retrieved:\n",
    "        suggestions = generate_completion(input_text, retrieved)  \n",
    "        # Update output box\n",
    "#         suggestions_output.value = \"\\n\\n\".join(suggestions)\n",
    "#         print(suggestions)\n",
    "    else:\n",
    "        suggestions_output.value = \"No suggestions found.\"\n",
    "        \n",
    "for i in suggestions:\n",
    "    print(i)"
   ]
  },
  {
   "cell_type": "code",
   "execution_count": 21,
   "metadata": {
    "colab": {
     "base_uri": "https://localhost:8080/",
     "height": 201,
     "referenced_widgets": [
      "f8f31a866a804917ad7867ec25871f0c",
      "fa43acf5b102429da80c9c3c77d44d21",
      "f603da279d9645cd9301c457366e1878",
      "6d4f46e6f3824a68898e89740ad8d3ee",
      "d31c15d041834d088e339e0633d5fb8c",
      "376263905e514930a4a2e0db247201c8"
     ]
    },
    "executionInfo": {
     "elapsed": 382,
     "status": "ok",
     "timestamp": 1729016863981,
     "user": {
      "displayName": "pradeep ragavarapu",
      "userId": "08037264567537929603"
     },
     "user_tz": -330
    },
    "id": "4BG7-WRmIQXQ",
    "outputId": "0f4a10c9-087e-4a87-842f-0d40e9c4662b"
   },
   "outputs": [
    {
     "data": {
      "application/vnd.jupyter.widget-view+json": {
       "model_id": "6fcf2228e5594c85b5831763fd0f396a",
       "version_major": 2,
       "version_minor": 0
      },
      "text/plain": [
       "Text(value='', description='Search:', placeholder='Type a product name...')"
      ]
     },
     "metadata": {},
     "output_type": "display_data"
    },
    {
     "data": {
      "application/vnd.jupyter.widget-view+json": {
       "model_id": "fc03a4c6fbd647fbb6f05cae823435b7",
       "version_major": 2,
       "version_minor": 0
      },
      "text/plain": [
       "Textarea(value='', description='Suggestions:', layout=Layout(height='150px', width='80%'), placeholder='Sugges…"
      ]
     },
     "metadata": {},
     "output_type": "display_data"
    }
   ],
   "source": [
    "# Step 4: Update the UI to display suggestions dynamically\n",
    "def on_text_change(change):\n",
    "    # Get the input text\n",
    "    input_text = change['new'].strip()\n",
    "\n",
    "    # If input text is not empty, retrieve suggestions and display\n",
    "    if input_text:\n",
    "        retrieved = retrieve_similar(input_text, product_names)  \n",
    "        if retrieved:\n",
    "            suggestions = generate_completion(input_text, retrieved)  \n",
    "            # Update output box\n",
    "            suggestions_output.value = \"\\n\\n\".join(suggestions)\n",
    "        else:\n",
    "            suggestions_output.value = \"No suggestions found.\"\n",
    "    else:\n",
    "        suggestions_output.value = \"\" \n",
    "\n",
    "# Create a text input box\n",
    "text_input = widgets.Text(\n",
    "    value='',\n",
    "    placeholder='Type a product name...',\n",
    "    description='Search:',\n",
    "    disabled=False\n",
    ")\n",
    "\n",
    "# Create a text area for displaying suggestions\n",
    "suggestions_output = widgets.Textarea(\n",
    "    value='',\n",
    "    placeholder='Suggestions will appear here...',\n",
    "    description='Suggestions:',\n",
    "    layout=widgets.Layout(width='80%', height='150px')\n",
    ")\n",
    "\n",
    "# Attach the text input box to a callback function to dynamically update suggestions\n",
    "text_input.observe(on_text_change, names='value')\n",
    "\n",
    "# Display the input box and output area in the notebook\n",
    "display(text_input, suggestions_output)\n"
   ]
  },
  {
   "cell_type": "code",
   "execution_count": null,
   "metadata": {
    "id": "m9aMW65XYXgg"
   },
   "outputs": [],
   "source": []
  }
 ],
 "metadata": {
  "accelerator": "GPU",
  "colab": {
   "authorship_tag": "ABX9TyOOa0gMibqY87pUTdRCED/A",
   "gpuType": "T4",
   "mount_file_id": "1TCRljb1f5EVjlfQJzJFbU1qiKsGbTVA_",
   "provenance": []
  },
  "kernelspec": {
   "display_name": "local-venv-kernel",
   "language": "python",
   "name": "local-venv-kernel"
  },
  "language_info": {
   "codemirror_mode": {
    "name": "ipython",
    "version": 3
   },
   "file_extension": ".py",
   "mimetype": "text/x-python",
   "name": "python",
   "nbconvert_exporter": "python",
   "pygments_lexer": "ipython3",
   "version": "3.9.7"
  },
  "widgets": {
   "application/vnd.jupyter.widget-state+json": {
    "376263905e514930a4a2e0db247201c8": {
     "model_module": "@jupyter-widgets/controls",
     "model_module_version": "1.5.0",
     "model_name": "DescriptionStyleModel",
     "state": {
      "_model_module": "@jupyter-widgets/controls",
      "_model_module_version": "1.5.0",
      "_model_name": "DescriptionStyleModel",
      "_view_count": null,
      "_view_module": "@jupyter-widgets/base",
      "_view_module_version": "1.2.0",
      "_view_name": "StyleView",
      "description_width": ""
     }
    },
    "6d4f46e6f3824a68898e89740ad8d3ee": {
     "model_module": "@jupyter-widgets/controls",
     "model_module_version": "1.5.0",
     "model_name": "TextareaModel",
     "state": {
      "_dom_classes": [],
      "_model_module": "@jupyter-widgets/controls",
      "_model_module_version": "1.5.0",
      "_model_name": "TextareaModel",
      "_view_count": null,
      "_view_module": "@jupyter-widgets/controls",
      "_view_module_version": "1.5.0",
      "_view_name": "TextareaView",
      "continuous_update": true,
      "description": "Suggestions:",
      "description_tooltip": null,
      "disabled": false,
      "layout": "IPY_MODEL_d31c15d041834d088e339e0633d5fb8c",
      "placeholder": "Suggestions will appear here...",
      "rows": null,
      "style": "IPY_MODEL_376263905e514930a4a2e0db247201c8",
      "value": "All-New Fire HD 8 Tablet 8 HD Display Wi-Fi 16 GB - Includes Special Offers Magenta\nKindle Oasis E-reader with Leather Charging Cover - Merlot 6 High-Resolution Display 300 ppi Wi-Fi - Includes Special Offers\nAll-New Fire HD 8 Tablet 8 HD Display Wi-Fi 32 GB - Includes Special Offers Magenta\nFire HD 8 Tablet with Alexa 8 HD Display 32 GB Tangerine - with Special Offers\nAmazon 5W USB Official OEM Charger and Power Adapter for Fire Tablets and Kindle eReaders Amazon 5W USB Official OEM Charger and Power Adapter for Fire Tablets and Kindle eReaders\nAmazon 5W USB Official OEM Charger and Power Adapter for Fire Tablets and Kindle eReaders\nAmazon Fire HD 8 Tablet 8 HD Display"
     }
    },
    "d31c15d041834d088e339e0633d5fb8c": {
     "model_module": "@jupyter-widgets/base",
     "model_module_version": "1.2.0",
     "model_name": "LayoutModel",
     "state": {
      "_model_module": "@jupyter-widgets/base",
      "_model_module_version": "1.2.0",
      "_model_name": "LayoutModel",
      "_view_count": null,
      "_view_module": "@jupyter-widgets/base",
      "_view_module_version": "1.2.0",
      "_view_name": "LayoutView",
      "align_content": null,
      "align_items": null,
      "align_self": null,
      "border": null,
      "bottom": null,
      "display": null,
      "flex": null,
      "flex_flow": null,
      "grid_area": null,
      "grid_auto_columns": null,
      "grid_auto_flow": null,
      "grid_auto_rows": null,
      "grid_column": null,
      "grid_gap": null,
      "grid_row": null,
      "grid_template_areas": null,
      "grid_template_columns": null,
      "grid_template_rows": null,
      "height": "150px",
      "justify_content": null,
      "justify_items": null,
      "left": null,
      "margin": null,
      "max_height": null,
      "max_width": null,
      "min_height": null,
      "min_width": null,
      "object_fit": null,
      "object_position": null,
      "order": null,
      "overflow": null,
      "overflow_x": null,
      "overflow_y": null,
      "padding": null,
      "right": null,
      "top": null,
      "visibility": null,
      "width": "80%"
     }
    },
    "f603da279d9645cd9301c457366e1878": {
     "model_module": "@jupyter-widgets/controls",
     "model_module_version": "1.5.0",
     "model_name": "DescriptionStyleModel",
     "state": {
      "_model_module": "@jupyter-widgets/controls",
      "_model_module_version": "1.5.0",
      "_model_name": "DescriptionStyleModel",
      "_view_count": null,
      "_view_module": "@jupyter-widgets/base",
      "_view_module_version": "1.2.0",
      "_view_name": "StyleView",
      "description_width": ""
     }
    },
    "f8f31a866a804917ad7867ec25871f0c": {
     "model_module": "@jupyter-widgets/controls",
     "model_module_version": "1.5.0",
     "model_name": "TextModel",
     "state": {
      "_dom_classes": [],
      "_model_module": "@jupyter-widgets/controls",
      "_model_module_version": "1.5.0",
      "_model_name": "TextModel",
      "_view_count": null,
      "_view_module": "@jupyter-widgets/controls",
      "_view_module_version": "1.5.0",
      "_view_name": "TextView",
      "continuous_update": true,
      "description": "Search:",
      "description_tooltip": null,
      "disabled": false,
      "layout": "IPY_MODEL_fa43acf5b102429da80c9c3c77d44d21",
      "placeholder": "Type a product name...",
      "style": "IPY_MODEL_f603da279d9645cd9301c457366e1878",
      "value": "fire tv"
     }
    },
    "fa43acf5b102429da80c9c3c77d44d21": {
     "model_module": "@jupyter-widgets/base",
     "model_module_version": "1.2.0",
     "model_name": "LayoutModel",
     "state": {
      "_model_module": "@jupyter-widgets/base",
      "_model_module_version": "1.2.0",
      "_model_name": "LayoutModel",
      "_view_count": null,
      "_view_module": "@jupyter-widgets/base",
      "_view_module_version": "1.2.0",
      "_view_name": "LayoutView",
      "align_content": null,
      "align_items": null,
      "align_self": null,
      "border": null,
      "bottom": null,
      "display": null,
      "flex": null,
      "flex_flow": null,
      "grid_area": null,
      "grid_auto_columns": null,
      "grid_auto_flow": null,
      "grid_auto_rows": null,
      "grid_column": null,
      "grid_gap": null,
      "grid_row": null,
      "grid_template_areas": null,
      "grid_template_columns": null,
      "grid_template_rows": null,
      "height": null,
      "justify_content": null,
      "justify_items": null,
      "left": null,
      "margin": null,
      "max_height": null,
      "max_width": null,
      "min_height": null,
      "min_width": null,
      "object_fit": null,
      "object_position": null,
      "order": null,
      "overflow": null,
      "overflow_x": null,
      "overflow_y": null,
      "padding": null,
      "right": null,
      "top": null,
      "visibility": null,
      "width": null
     }
    }
   }
  }
 },
 "nbformat": 4,
 "nbformat_minor": 1
}
